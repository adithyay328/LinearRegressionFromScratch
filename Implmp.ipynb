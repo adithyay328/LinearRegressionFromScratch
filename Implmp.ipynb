{
 "cells": [
  {
   "cell_type": "code",
   "execution_count": 1,
   "id": "b8a82a2f-caeb-4731-a2ce-528c080d91ab",
   "metadata": {},
   "outputs": [
    {
     "name": "stdout",
     "output_type": "stream",
     "text": [
      "Requirement already satisfied: numpy in /home/adithyay328/.local/lib/python3.8/site-packages (1.21.3)\n",
      "Requirement already satisfied: matplotlib in /home/adithyay328/.local/lib/python3.8/site-packages (3.5.1)\n",
      "Requirement already satisfied: fonttools>=4.22.0 in /home/adithyay328/.local/lib/python3.8/site-packages (from matplotlib) (4.28.5)\n",
      "Requirement already satisfied: pyparsing>=2.2.1 in /home/adithyay328/.local/lib/python3.8/site-packages (from matplotlib) (3.0.6)\n",
      "Requirement already satisfied: python-dateutil>=2.7 in /usr/lib/python3/dist-packages (from matplotlib) (2.7.3)\n",
      "Requirement already satisfied: pillow>=6.2.0 in /usr/lib/python3/dist-packages (from matplotlib) (7.0.0)\n",
      "Requirement already satisfied: packaging>=20.0 in /home/adithyay328/.local/lib/python3.8/site-packages (from matplotlib) (21.3)\n",
      "Requirement already satisfied: kiwisolver>=1.0.1 in /home/adithyay328/.local/lib/python3.8/site-packages (from matplotlib) (1.3.2)\n",
      "Requirement already satisfied: cycler>=0.10 in /home/adithyay328/.local/lib/python3.8/site-packages (from matplotlib) (0.11.0)\n",
      "Note: you may need to restart the kernel to use updated packages.\n"
     ]
    }
   ],
   "source": [
    "%pip install numpy matplotlib\n",
    "import matplotlib as mpl\n",
    "import matplotlib.pyplot as plt\n",
    "import numpy as np"
   ]
  },
  {
   "cell_type": "code",
   "execution_count": 2,
   "id": "a6f25a24-4a6f-4a63-af7c-eec3fe4f1f18",
   "metadata": {
    "tags": []
   },
   "outputs": [],
   "source": [
    "# Going to randomly generate x values between 1 and 100\n",
    "import random\n",
    "x = np.array([])\n",
    "\n",
    "for i in range(100):\n",
    "    x = np.append(x, random.uniform(1, 100))\n",
    "\n",
    "#Now going to randomly generate y values\n",
    "y = np.array([])\n",
    "\n",
    "MBASE = 22\n",
    "CBASE = 10.5\n",
    "MAXERRORPERCENT = 0.05\n",
    "for xVal in x:\n",
    "    #Going to randomly generate a slope and a y-intercept.\n",
    "    #The linear regression model will predict against this,\n",
    "    #so the range of values isn't that big\n",
    "    mRand = MBASE * random.uniform(1 - MAXERRORPERCENT / 2, 1 + MAXERRORPERCENT / 2)\n",
    "    cRand = CBASE * random.uniform(1 - MAXERRORPERCENT / 2, 1 + MAXERRORPERCENT / 2)\n",
    "    \n",
    "    yGen = mRand * xVal + cRand\n",
    "    y = np.append(y, yGen)\n",
    "\n",
    "xAvg = np.average(x)"
   ]
  },
  {
   "cell_type": "code",
   "execution_count": 3,
   "id": "d712234e-9aa0-47b4-a064-904897fcd411",
   "metadata": {},
   "outputs": [
    {
     "data": {
      "image/png": "[encoded data removed]",
      "text/plain": [
       "<Figure size 432x288 with 1 Axes>"
      ]
     },
     "metadata": {
      "needs_background": "light"
     },
     "output_type": "display_data"
    }
   ],
   "source": [
    "#Just vizualising for right now\n",
    "plt.scatter(x, y)\n",
    "plt.show()"
   ]
  },
  {
   "cell_type": "code",
   "execution_count": 4,
   "id": "abf60fec-4211-4b1c-8a11-db6d679b7924",
   "metadata": {},
   "outputs": [
    {
     "name": "stdout",
     "output_type": "stream",
     "text": [
      "m is: 22.03199999999846\n",
      "b is: 10.111999999999775\n",
      "3.925796127584522\n"
     ]
    },
    {
     "data": {
      "image/png": "[encoded data removed]",
      "text/plain": [
       "<Figure size 432x288 with 1 Axes>"
      ]
     },
     "metadata": {
      "needs_background": "light"
     },
     "output_type": "display_data"
    }
   ],
   "source": [
    "#START OF LINEAR REGRESSION COMPONENT\n",
    "\n",
    "def RMSE(m, b, dataX, dataY):\n",
    "    hypY = m*dataX + b\n",
    "    mse = np.sum( (dataY - hypY) ** 2 )\n",
    "    rmse = pow(mse, 0.5)\n",
    "    \n",
    "    return rmse\n",
    "\n",
    "#TODO: SEE IF THERE ARE MORE EFFICIENT WAYS TO INIT\n",
    "#INITIAL VALUES\n",
    "m = 0\n",
    "b = 0\n",
    "\n",
    "#TODO: FIND OPTIMAL WAY TO DECIDE LEARING RATE\n",
    "LEARNING_RATE=0.008\n",
    "\n",
    "prevError = [RMSE(m, b, x, y)]\n",
    "\n",
    "#TODO: FIGURE OUT OPTIMAL NUMBER OF EPOCHS\n",
    "EPOCHS=100000\n",
    "    \n",
    "percentError = -1\n",
    "for i in range(EPOCHS):\n",
    "    #Going to adjust y and b, then compare diff to old mse\n",
    "    mNew = m - LEARNING_RATE\n",
    "    bNew = b - LEARNING_RATE\n",
    "    \n",
    "#   Get RMSE error for new values\n",
    "    mNewError = RMSE(mNew, b, x, y)\n",
    "    bNewError = RMSE(m, bNew, x, y)\n",
    "    \n",
    "#   If RMSE went down, we're going in the right direction. Otherwise, direction is wrong, and change m to the other direction    \n",
    "    if(mNewError > prevError[-1]):\n",
    "        mNew = m + LEARNING_RATE\n",
    "    if(bNewError > prevError[-1]):\n",
    "        bNew = b + LEARNING_RATE\n",
    "    \n",
    "    m = mNew\n",
    "    b = bNew\n",
    "    \n",
    "    error = RMSE(m, b, x, y)\n",
    "    prevError.append(error)\n",
    "    \n",
    "    percentError = error / xAvg\n",
    "\n",
    "print(f\"m is: {m}\")\n",
    "print(f\"b is: {b}\")\n",
    "print(percentError)\n",
    "\n",
    "#Just vizualising for right now\n",
    "x_line = np.linspace(0, 100 ,100)\n",
    "y_line = m * x_line + b\n",
    "plt.plot(x_line, y_line, color=\"r\")\n",
    "\n",
    "plt.scatter(x, y)\n",
    "\n",
    "plt.show()"
   ]
  }
 ],
 "metadata": {
  "kernelspec": {
   "display_name": "Python 3 (ipykernel)",
   "language": "python",
   "name": "python3"
  },
  "language_info": {
   "codemirror_mode": {
    "name": "ipython",
    "version": 3
   },
   "file_extension": ".py",
   "mimetype": "text/x-python",
   "name": "python",
   "nbconvert_exporter": "python",
   "pygments_lexer": "ipython3",
   "version": "3.8.10"
  }
 },
 "nbformat": 4,
 "nbformat_minor": 5
}
